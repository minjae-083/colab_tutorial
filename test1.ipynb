{
  "nbformat": 4,
  "nbformat_minor": 0,
  "metadata": {
    "colab": {
      "provenance": [],
      "authorship_tag": "ABX9TyNB3eXz6YFkAKFg+Oh72Gmh",
      "include_colab_link": true
    },
    "kernelspec": {
      "name": "python3",
      "display_name": "Python 3"
    },
    "language_info": {
      "name": "python"
    }
  },
  "cells": [
    {
      "cell_type": "markdown",
      "metadata": {
        "id": "view-in-github",
        "colab_type": "text"
      },
      "source": [
        "<a href=\"https://colab.research.google.com/github/minjae-083/colab_tutorial/blob/main/test1.ipynb\" target=\"_parent\"><img src=\"https://colab.research.google.com/assets/colab-badge.svg\" alt=\"Open In Colab\"/></a>"
      ]
    },
    {
      "cell_type": "code",
      "execution_count": null,
      "metadata": {
        "id": "3XBL3o6qyPuh"
      },
      "outputs": [],
      "source": [
        "import pandas as pd\n",
        "import matplotlib.pyplot as plt\n",
        "import seaborn as sb"
      ]
    },
    {
      "cell_type": "code",
      "source": [
        "# 남녀별 생존율 차이\n",
        "\n",
        "df = sb.load_dataset('titanic')\n",
        "\n",
        "# 성별로 그룹화, 생존율(평균) 계산\n",
        "s = df.groupby('sex')[['survived']].mean() # []가 2개인 이유? 1개->'시리즈'를 선택, 2개->'데이터프레임'을 선택\n",
        "print(s)"
      ],
      "metadata": {
        "colab": {
          "base_uri": "https://localhost:8080/"
        },
        "id": "NQX-Eei0y-9M",
        "outputId": "22760508-a52a-4045-8ba9-a8f1e83dadf6"
      },
      "execution_count": null,
      "outputs": [
        {
          "output_type": "stream",
          "name": "stdout",
          "text": [
            "        survived\n",
            "sex             \n",
            "female  0.742038\n",
            "male    0.188908\n"
          ]
        }
      ]
    },
    {
      "cell_type": "code",
      "source": [
        "# [] 1개와 2개의 차이?\n",
        "s1 = df.groupby('sex')['survived'].mean() # 시리즈 선택. 인덱스가 'sex', 값이 'survived'\n",
        "s2 = df.groupby('sex')[['survived']].mean() # 데이터프레임 선택. 인덱스가 'sex', 컬럼이 'survived'\n",
        "\n",
        "print(type(s1))  # <class 'pandas.core.series.Series'>\n",
        "print(type(s2))  # <class 'pandas.core.frame.DataFrame'>"
      ],
      "metadata": {
        "colab": {
          "base_uri": "https://localhost:8080/"
        },
        "id": "jnmvz7kK1yYB",
        "outputId": "99a7252d-a8c6-46fc-f80e-6ab993645ccf"
      },
      "execution_count": null,
      "outputs": [
        {
          "output_type": "stream",
          "name": "stdout",
          "text": [
            "<class 'pandas.core.series.Series'>\n",
            "<class 'pandas.core.frame.DataFrame'>\n"
          ]
        }
      ]
    },
    {
      "cell_type": "code",
      "source": [
        "# 나이대별로 요금(fare) 지불에 차이가 있는가\n",
        "# 나이대(10살로 묶음)로 묶어서 평균 지불 금액을 구하기\n",
        "df = sb.load_dataset('titanic')\n",
        "\n",
        "# 구간 생성\n",
        "bins = range(0, 101, 10)\n",
        "labels = [f\"{i}~{i+9}\" for i in bins[:-1]]\n",
        "\n",
        "df['age_group'] = pd.cut(df['age'], bins=bins, labels=labels, right=True)\n",
        "r = df.groupby('age_group')[['fare']].mean()\n",
        "print(r)"
      ],
      "metadata": {
        "id": "t-u84c5izBKr",
        "outputId": "37cdd471-0b9c-4496-c40b-ae304ee0d65d",
        "colab": {
          "base_uri": "https://localhost:8080/"
        }
      },
      "execution_count": 12,
      "outputs": [
        {
          "output_type": "stream",
          "name": "stdout",
          "text": [
            "                fare\n",
            "age_group           \n",
            "0~9        30.434439\n",
            "10~19      29.529531\n",
            "20~29      28.306719\n",
            "30~39      42.496100\n",
            "40~49      41.163181\n",
            "50~59      44.774802\n",
            "60~69      45.910782\n",
            "70~79      25.936680\n",
            "80~89            NaN\n",
            "90~99            NaN\n"
          ]
        },
        {
          "output_type": "stream",
          "name": "stderr",
          "text": [
            "<ipython-input-12-7ac2f5e9b086>:10: FutureWarning: The default of observed=False is deprecated and will be changed to True in a future version of pandas. Pass observed=False to retain current behavior or observed=True to adopt the future default and silence this warning.\n",
            "  r = df.groupby('age_group')[['fare']].mean()\n"
          ]
        }
      ]
    },
    {
      "cell_type": "code",
      "source": [
        "# 결측치가 많은 컬럼은 무엇인가? 어떻게 처리할 것인가?\n",
        "# 결측치 비율\n",
        "df.isnull().sum() / len(df)"
      ],
      "metadata": {
        "id": "2h8oZ3ArzFwz",
        "colab": {
          "base_uri": "https://localhost:8080/",
          "height": 586
        },
        "outputId": "89a0b82e-b380-421c-97cf-63077d881a9d"
      },
      "execution_count": 15,
      "outputs": [
        {
          "output_type": "execute_result",
          "data": {
            "text/plain": [
              "survived       0.000000\n",
              "pclass         0.000000\n",
              "sex            0.000000\n",
              "age            0.198653\n",
              "sibsp          0.000000\n",
              "parch          0.000000\n",
              "fare           0.000000\n",
              "embarked       0.002245\n",
              "class          0.000000\n",
              "who            0.000000\n",
              "adult_male     0.000000\n",
              "deck           0.772166\n",
              "embark_town    0.002245\n",
              "alive          0.000000\n",
              "alone          0.000000\n",
              "age_group      0.198653\n",
              "dtype: float64"
            ],
            "text/html": [
              "<div>\n",
              "<style scoped>\n",
              "    .dataframe tbody tr th:only-of-type {\n",
              "        vertical-align: middle;\n",
              "    }\n",
              "\n",
              "    .dataframe tbody tr th {\n",
              "        vertical-align: top;\n",
              "    }\n",
              "\n",
              "    .dataframe thead th {\n",
              "        text-align: right;\n",
              "    }\n",
              "</style>\n",
              "<table border=\"1\" class=\"dataframe\">\n",
              "  <thead>\n",
              "    <tr style=\"text-align: right;\">\n",
              "      <th></th>\n",
              "      <th>0</th>\n",
              "    </tr>\n",
              "  </thead>\n",
              "  <tbody>\n",
              "    <tr>\n",
              "      <th>survived</th>\n",
              "      <td>0.000000</td>\n",
              "    </tr>\n",
              "    <tr>\n",
              "      <th>pclass</th>\n",
              "      <td>0.000000</td>\n",
              "    </tr>\n",
              "    <tr>\n",
              "      <th>sex</th>\n",
              "      <td>0.000000</td>\n",
              "    </tr>\n",
              "    <tr>\n",
              "      <th>age</th>\n",
              "      <td>0.198653</td>\n",
              "    </tr>\n",
              "    <tr>\n",
              "      <th>sibsp</th>\n",
              "      <td>0.000000</td>\n",
              "    </tr>\n",
              "    <tr>\n",
              "      <th>parch</th>\n",
              "      <td>0.000000</td>\n",
              "    </tr>\n",
              "    <tr>\n",
              "      <th>fare</th>\n",
              "      <td>0.000000</td>\n",
              "    </tr>\n",
              "    <tr>\n",
              "      <th>embarked</th>\n",
              "      <td>0.002245</td>\n",
              "    </tr>\n",
              "    <tr>\n",
              "      <th>class</th>\n",
              "      <td>0.000000</td>\n",
              "    </tr>\n",
              "    <tr>\n",
              "      <th>who</th>\n",
              "      <td>0.000000</td>\n",
              "    </tr>\n",
              "    <tr>\n",
              "      <th>adult_male</th>\n",
              "      <td>0.000000</td>\n",
              "    </tr>\n",
              "    <tr>\n",
              "      <th>deck</th>\n",
              "      <td>0.772166</td>\n",
              "    </tr>\n",
              "    <tr>\n",
              "      <th>embark_town</th>\n",
              "      <td>0.002245</td>\n",
              "    </tr>\n",
              "    <tr>\n",
              "      <th>alive</th>\n",
              "      <td>0.000000</td>\n",
              "    </tr>\n",
              "    <tr>\n",
              "      <th>alone</th>\n",
              "      <td>0.000000</td>\n",
              "    </tr>\n",
              "    <tr>\n",
              "      <th>age_group</th>\n",
              "      <td>0.198653</td>\n",
              "    </tr>\n",
              "  </tbody>\n",
              "</table>\n",
              "</div><br><label><b>dtype:</b> float64</label>"
            ]
          },
          "metadata": {},
          "execution_count": 15
        }
      ]
    }
  ]
}