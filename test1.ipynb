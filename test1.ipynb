{
  "nbformat": 4,
  "nbformat_minor": 0,
  "metadata": {
    "colab": {
      "provenance": [],
      "toc_visible": true,
      "authorship_tag": "ABX9TyMgPgSe9jVvUmC7UxQriyhh",
      "include_colab_link": true
    },
    "kernelspec": {
      "name": "python3",
      "display_name": "Python 3"
    },
    "language_info": {
      "name": "python"
    }
  },
  "cells": [
    {
      "cell_type": "markdown",
      "metadata": {
        "id": "view-in-github",
        "colab_type": "text"
      },
      "source": [
        "<a href=\"https://colab.research.google.com/github/minjae-083/colab_tutorial/blob/main/test1.ipynb\" target=\"_parent\"><img src=\"https://colab.research.google.com/assets/colab-badge.svg\" alt=\"Open In Colab\"/></a>"
      ]
    },
    {
      "cell_type": "code",
      "execution_count": 1,
      "metadata": {
        "colab": {
          "base_uri": "https://localhost:8080/"
        },
        "id": "3XBL3o6qyPuh",
        "outputId": "02eadabc-01e9-4e6e-e890-ed3dbb7fac1e"
      },
      "outputs": [
        {
          "output_type": "stream",
          "name": "stdout",
          "text": [
            "   survived  pclass     sex   age  sibsp  parch     fare embarked  class  \\\n",
            "0         0       3    male  22.0      1      0   7.2500        S  Third   \n",
            "1         1       1  female  38.0      1      0  71.2833        C  First   \n",
            "2         1       3  female  26.0      0      0   7.9250        S  Third   \n",
            "3         1       1  female  35.0      1      0  53.1000        S  First   \n",
            "4         0       3    male  35.0      0      0   8.0500        S  Third   \n",
            "\n",
            "     who  adult_male deck  embark_town alive  alone  \n",
            "0    man        True  NaN  Southampton    no  False  \n",
            "1  woman       False    C    Cherbourg   yes  False  \n",
            "2  woman       False  NaN  Southampton   yes   True  \n",
            "3  woman       False    C  Southampton   yes  False  \n",
            "4    man        True  NaN  Southampton    no   True  \n"
          ]
        }
      ],
      "source": [
        "import pandas as pd\n",
        "import matplotlib.pyplot as plt\n",
        "import seaborn as sb"
      ]
    },
    {
      "cell_type": "code",
      "source": [
        "# 남녀별 생존율 차이\n",
        "\n",
        "df = sb.load_dataset('titanic')\n",
        "\n",
        "# 성별로 그룹화, 생존율(평균) 계산\n",
        "s = df.groupby('sex')[['survived']].mean() # []가 2개인 이유? 1개->'시리즈'를 선택, 2개->'데이터프레임'을 선택\n",
        "print(s)"
      ],
      "metadata": {
        "colab": {
          "base_uri": "https://localhost:8080/"
        },
        "id": "NQX-Eei0y-9M",
        "outputId": "2bb63bc9-9dbd-496d-e3c0-dffe074c310b"
      },
      "execution_count": 10,
      "outputs": [
        {
          "output_type": "stream",
          "name": "stdout",
          "text": [
            "        survived\n",
            "sex             \n",
            "female  0.742038\n",
            "male    0.188908\n"
          ]
        }
      ]
    },
    {
      "cell_type": "code",
      "source": [
        "# [] 1개와 2개의 차이?\n",
        "s1 = df.groupby('sex')['survived'].mean() # 시리즈 선택. 인덱스가 'sex', 값이 'survived'\n",
        "s2 = df.groupby('sex')[['survived']].mean() # 데이터프레임 선택. 인덱스가 'sex', 컬럼이 'survived'\n",
        "\n",
        "print(type(s1))  # <class 'pandas.core.series.Series'>\n",
        "print(type(s2))  # <class 'pandas.core.frame.DataFrame'>"
      ],
      "metadata": {
        "colab": {
          "base_uri": "https://localhost:8080/"
        },
        "id": "jnmvz7kK1yYB",
        "outputId": "99a7252d-a8c6-46fc-f80e-6ab993645ccf"
      },
      "execution_count": 11,
      "outputs": [
        {
          "output_type": "stream",
          "name": "stdout",
          "text": [
            "<class 'pandas.core.series.Series'>\n",
            "<class 'pandas.core.frame.DataFrame'>\n"
          ]
        }
      ]
    },
    {
      "cell_type": "code",
      "source": [
        "# 나이대별로 요금(fare) 지불에 차이가 있는가"
      ],
      "metadata": {
        "id": "t-u84c5izBKr"
      },
      "execution_count": null,
      "outputs": []
    },
    {
      "cell_type": "code",
      "source": [
        "# 결측치가 많은 컬럼은 무엇인가? 어떻게 처리할 것인가?"
      ],
      "metadata": {
        "id": "2h8oZ3ArzFwz"
      },
      "execution_count": null,
      "outputs": []
    }
  ]
}