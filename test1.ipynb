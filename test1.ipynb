{
  "nbformat": 4,
  "nbformat_minor": 0,
  "metadata": {
    "colab": {
      "provenance": [],
      "toc_visible": true,
      "authorship_tag": "ABX9TyN3Q5CYTHhRS+RYcmOxChj/",
      "include_colab_link": true
    },
    "kernelspec": {
      "name": "python3",
      "display_name": "Python 3"
    },
    "language_info": {
      "name": "python"
    }
  },
  "cells": [
    {
      "cell_type": "markdown",
      "metadata": {
        "id": "view-in-github",
        "colab_type": "text"
      },
      "source": [
        "<a href=\"https://colab.research.google.com/github/minjae-083/colab_tutorial/blob/main/test1.ipynb\" target=\"_parent\"><img src=\"https://colab.research.google.com/assets/colab-badge.svg\" alt=\"Open In Colab\"/></a>"
      ]
    },
    {
      "cell_type": "code",
      "execution_count": 1,
      "metadata": {
        "id": "3XBL3o6qyPuh"
      },
      "outputs": [],
      "source": [
        "import pandas as pd\n",
        "import matplotlib.pyplot as plt\n",
        "import seaborn as sb"
      ]
    },
    {
      "cell_type": "code",
      "source": [
        "# 남녀별 생존율 차이\n",
        "\n",
        "df = sb.load_dataset('titanic')\n",
        "\n",
        "# 성별로 그룹화, 생존율(평균) 계산\n",
        "s = df.groupby('sex')[['survived']].mean() # []가 2개인 이유? 1개->'시리즈'를 선택, 2개->'데이터프레임'을 선택\n",
        "print(s)"
      ],
      "metadata": {
        "colab": {
          "base_uri": "https://localhost:8080/"
        },
        "id": "NQX-Eei0y-9M",
        "outputId": "22760508-a52a-4045-8ba9-a8f1e83dadf6"
      },
      "execution_count": 2,
      "outputs": [
        {
          "output_type": "stream",
          "name": "stdout",
          "text": [
            "        survived\n",
            "sex             \n",
            "female  0.742038\n",
            "male    0.188908\n"
          ]
        }
      ]
    },
    {
      "cell_type": "code",
      "source": [
        "# [] 1개와 2개의 차이?\n",
        "s1 = df.groupby('sex')['survived'].mean() # 시리즈 선택. 인덱스가 'sex', 값이 'survived'\n",
        "s2 = df.groupby('sex')[['survived']].mean() # 데이터프레임 선택. 인덱스가 'sex', 컬럼이 'survived'\n",
        "\n",
        "print(type(s1))  # <class 'pandas.core.series.Series'>\n",
        "print(type(s2))  # <class 'pandas.core.frame.DataFrame'>"
      ],
      "metadata": {
        "colab": {
          "base_uri": "https://localhost:8080/"
        },
        "id": "jnmvz7kK1yYB",
        "outputId": "99a7252d-a8c6-46fc-f80e-6ab993645ccf"
      },
      "execution_count": null,
      "outputs": [
        {
          "output_type": "stream",
          "name": "stdout",
          "text": [
            "<class 'pandas.core.series.Series'>\n",
            "<class 'pandas.core.frame.DataFrame'>\n"
          ]
        }
      ]
    },
    {
      "cell_type": "code",
      "source": [
        "# 나이대별로 요금(fare) 지불에 차이가 있는가\n",
        "# 나이대(10살로 묶음)로 묶어서 평균 지불 금액을 구하기\n",
        "df = sb.load_dataset('titanic')\n",
        "\n",
        "# 구간 생성\n",
        "bins = range(0, 101, 10)\n",
        "labels = [f\"{i}~{i+9}\" for i in bins[:-1]]\n",
        "\n",
        "fare_per_age = pd.cut(df['age'], bins=bins, labels=labels, right=True)\n",
        "print(fare_per_age)"
      ],
      "metadata": {
        "id": "t-u84c5izBKr",
        "outputId": "a357f8b0-0c08-4262-9ff6-6d9dd375d95c",
        "colab": {
          "base_uri": "https://localhost:8080/"
        }
      },
      "execution_count": 6,
      "outputs": [
        {
          "output_type": "stream",
          "name": "stdout",
          "text": [
            "0      20~29\n",
            "1      30~39\n",
            "2      20~29\n",
            "3      30~39\n",
            "4      30~39\n",
            "       ...  \n",
            "886    20~29\n",
            "887    10~19\n",
            "888      NaN\n",
            "889    20~29\n",
            "890    30~39\n",
            "Name: age, Length: 891, dtype: category\n",
            "Categories (10, object): ['0~9' < '10~19' < '20~29' < '30~39' ... '60~69' < '70~79' < '80~89' < '90~99']\n"
          ]
        }
      ]
    },
    {
      "cell_type": "code",
      "source": [
        "# 결측치가 많은 컬럼은 무엇인가? 어떻게 처리할 것인가?"
      ],
      "metadata": {
        "id": "2h8oZ3ArzFwz"
      },
      "execution_count": null,
      "outputs": []
    }
  ]
}